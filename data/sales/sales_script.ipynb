{
 "cells": [
  {
   "cell_type": "code",
   "execution_count": 2,
   "id": "33fcdf38",
   "metadata": {},
   "outputs": [],
   "source": [
    "import pandas as pd\n",
    "import random as rd\n",
    "from datetime import date\n",
    "\n",
    "sales_data = pd.read_csv(\"sales.csv\")"
   ]
  },
  {
   "cell_type": "code",
   "execution_count": 3,
   "id": "7981312e",
   "metadata": {},
   "outputs": [
    {
     "data": {
      "text/html": [
       "<div>\n",
       "<style scoped>\n",
       "    .dataframe tbody tr th:only-of-type {\n",
       "        vertical-align: middle;\n",
       "    }\n",
       "\n",
       "    .dataframe tbody tr th {\n",
       "        vertical-align: top;\n",
       "    }\n",
       "\n",
       "    .dataframe thead th {\n",
       "        text-align: right;\n",
       "    }\n",
       "</style>\n",
       "<table border=\"1\" class=\"dataframe\">\n",
       "  <thead>\n",
       "    <tr style=\"text-align: right;\">\n",
       "      <th></th>\n",
       "      <th>transaction_id</th>\n",
       "      <th>product_id</th>\n",
       "      <th>quantity</th>\n",
       "      <th>total_transaction_amount</th>\n",
       "      <th>transaction_date</th>\n",
       "    </tr>\n",
       "  </thead>\n",
       "  <tbody>\n",
       "    <tr>\n",
       "      <th>0</th>\n",
       "      <td>1</td>\n",
       "      <td>6</td>\n",
       "      <td>1</td>\n",
       "      <td>4218</td>\n",
       "      <td>1/16/2024</td>\n",
       "    </tr>\n",
       "    <tr>\n",
       "      <th>1</th>\n",
       "      <td>2</td>\n",
       "      <td>41</td>\n",
       "      <td>1</td>\n",
       "      <td>3919</td>\n",
       "      <td>5/20/2024</td>\n",
       "    </tr>\n",
       "    <tr>\n",
       "      <th>2</th>\n",
       "      <td>3</td>\n",
       "      <td>96</td>\n",
       "      <td>18</td>\n",
       "      <td>5028</td>\n",
       "      <td>8/30/2023</td>\n",
       "    </tr>\n",
       "    <tr>\n",
       "      <th>3</th>\n",
       "      <td>4</td>\n",
       "      <td>37</td>\n",
       "      <td>14</td>\n",
       "      <td>8834</td>\n",
       "      <td>9/10/2023</td>\n",
       "    </tr>\n",
       "    <tr>\n",
       "      <th>4</th>\n",
       "      <td>5</td>\n",
       "      <td>45</td>\n",
       "      <td>3</td>\n",
       "      <td>5946</td>\n",
       "      <td>11/5/2023</td>\n",
       "    </tr>\n",
       "    <tr>\n",
       "      <th>5</th>\n",
       "      <td>6</td>\n",
       "      <td>38</td>\n",
       "      <td>13</td>\n",
       "      <td>5712</td>\n",
       "      <td>6/16/2024</td>\n",
       "    </tr>\n",
       "    <tr>\n",
       "      <th>6</th>\n",
       "      <td>7</td>\n",
       "      <td>13</td>\n",
       "      <td>16</td>\n",
       "      <td>7753</td>\n",
       "      <td>5/2/2024</td>\n",
       "    </tr>\n",
       "    <tr>\n",
       "      <th>7</th>\n",
       "      <td>8</td>\n",
       "      <td>32</td>\n",
       "      <td>18</td>\n",
       "      <td>4143</td>\n",
       "      <td>1/24/2024</td>\n",
       "    </tr>\n",
       "    <tr>\n",
       "      <th>8</th>\n",
       "      <td>9</td>\n",
       "      <td>94</td>\n",
       "      <td>8</td>\n",
       "      <td>1094</td>\n",
       "      <td>2/5/2024</td>\n",
       "    </tr>\n",
       "    <tr>\n",
       "      <th>9</th>\n",
       "      <td>10</td>\n",
       "      <td>67</td>\n",
       "      <td>16</td>\n",
       "      <td>3569</td>\n",
       "      <td>3/20/2024</td>\n",
       "    </tr>\n",
       "  </tbody>\n",
       "</table>\n",
       "</div>"
      ],
      "text/plain": [
       "   transaction_id  product_id  quantity  total_transaction_amount  \\\n",
       "0               1           6         1                      4218   \n",
       "1               2          41         1                      3919   \n",
       "2               3          96        18                      5028   \n",
       "3               4          37        14                      8834   \n",
       "4               5          45         3                      5946   \n",
       "5               6          38        13                      5712   \n",
       "6               7          13        16                      7753   \n",
       "7               8          32        18                      4143   \n",
       "8               9          94         8                      1094   \n",
       "9              10          67        16                      3569   \n",
       "\n",
       "  transaction_date  \n",
       "0        1/16/2024  \n",
       "1        5/20/2024  \n",
       "2        8/30/2023  \n",
       "3        9/10/2023  \n",
       "4        11/5/2023  \n",
       "5        6/16/2024  \n",
       "6         5/2/2024  \n",
       "7        1/24/2024  \n",
       "8         2/5/2024  \n",
       "9        3/20/2024  "
      ]
     },
     "execution_count": 3,
     "metadata": {},
     "output_type": "execute_result"
    }
   ],
   "source": [
    "sales_data.head(10)"
   ]
  },
  {
   "cell_type": "code",
   "execution_count": 3,
   "id": "d393e8e5",
   "metadata": {},
   "outputs": [],
   "source": [
    "for i in range(20):\n",
    "    f = open(f\"sales_{i+1}.csv\", \"w\")\n",
    "    f.close()"
   ]
  },
  {
   "cell_type": "code",
   "execution_count": 4,
   "id": "c2675924",
   "metadata": {},
   "outputs": [
    {
     "name": "stdout",
     "output_type": "stream",
     "text": [
      "['transaction_id', 'product_id', 'quantity', 'total_transaction_amount', 'transaction_date']\n"
     ]
    }
   ],
   "source": [
    "headers = []\n",
    "\n",
    "for i in sales_data:\n",
    "    headers.append(i)\n",
    "print(headers)"
   ]
  },
  {
   "cell_type": "code",
   "execution_count": 22,
   "id": "0849cb5d",
   "metadata": {},
   "outputs": [],
   "source": [
    "years = [2022, 2023, 2024]\n",
    "\n",
    "for i in range(20):\n",
    "    \n",
    "    rows = []\n",
    "    transaction_counter = 1\n",
    "    \n",
    "    for j in range(100):\n",
    "        random_transaction_id = transaction_counter\n",
    "        random_product_id = rd.randint(1, 100)\n",
    "        random_quantity = rd.randint(1, 20)\n",
    "        random_transaction_amount = rd.randint(100, 10000)\n",
    "        month = rd.randint(1, 12) \n",
    "        day = rd.randint(1, 27)\n",
    "        year = years[rd.randint(0, 2)]\n",
    "        random_transaction_date = date(year, month, day)\n",
    "\n",
    "        rows.append([random_transaction_id, random_product_id, random_quantity, random_transaction_amount, random_transaction_date])\n",
    "        transaction_counter += 1\n",
    "\n",
    "        # take all of this data and turn it into a dataframe\n",
    "    df = pd.DataFrame(rows, columns=['transaction_id', 'product_id', 'quantity', 'total_transaction_amount', 'transaction_date'])\n",
    "    df.to_csv(f\"sales_{i+1}.csv\", mode=\"a\", index=True, header=headers)\n",
    "\n"
   ]
  },
  {
   "cell_type": "code",
   "execution_count": 16,
   "id": "a4c0645c",
   "metadata": {},
   "outputs": [
    {
     "name": "stdout",
     "output_type": "stream",
     "text": [
      "[1, 2, 3, 4]\n",
      "[]\n"
     ]
    }
   ],
   "source": [
    "arr = [1, 2, 3, 4, ]\n",
    "print(arr)\n",
    "arr = []\n",
    "print(arr)"
   ]
  },
  {
   "cell_type": "code",
   "execution_count": 21,
   "id": "4017c19b",
   "metadata": {},
   "outputs": [],
   "source": [
    "for i in range(20):\n",
    "    empty_df = pd.DataFrame()\n",
    "    empty_df.to_csv(f\"sales_{i+1}.csv\", index=False)"
   ]
  },
  {
   "cell_type": "code",
   "execution_count": null,
   "id": "c25c2caa",
   "metadata": {},
   "outputs": [],
   "source": []
  }
 ],
 "metadata": {
  "kernelspec": {
   "display_name": "Python 3 (ipykernel)",
   "language": "python",
   "name": "python3"
  },
  "language_info": {
   "codemirror_mode": {
    "name": "ipython",
    "version": 3
   },
   "file_extension": ".py",
   "mimetype": "text/x-python",
   "name": "python",
   "nbconvert_exporter": "python",
   "pygments_lexer": "ipython3",
   "version": "3.11.5"
  }
 },
 "nbformat": 4,
 "nbformat_minor": 5
}
